{
 "cells": [
  {
   "cell_type": "code",
   "execution_count": 9,
   "metadata": {},
   "outputs": [],
   "source": [
    "import os\n",
    "import torch\n",
    "from torch.utils.cpp_extension import load"
   ]
  },
  {
   "cell_type": "code",
   "execution_count": 10,
   "metadata": {},
   "outputs": [],
   "source": [
    "cpp_source = os.path.join(os.getcwd(), 'build_cuda', 'main.cpp')\n",
    "cuda_source = os.path.join(os.getcwd(), 'build_cuda', 'cuda.cu')"
   ]
  },
  {
   "cell_type": "code",
   "execution_count": 11,
   "metadata": {},
   "outputs": [],
   "source": [
    "square_matrix_extension = load(\n",
    "    name=\"square_matrix_extension\",\n",
    "    sources=[cpp_source, cuda_source],\n",
    "    with_cuda=True,\n",
    "    # verbose=True,\n",
    ")"
   ]
  },
  {
   "cell_type": "code",
   "execution_count": 12,
   "metadata": {},
   "outputs": [],
   "source": [
    "def time_pytorch_function(func, input):\n",
    "    # CUDA IS ASYNC so can't use python time module\n",
    "    start = torch.cuda.Event(enable_timing=True)\n",
    "    end = torch.cuda.Event(enable_timing=True)\n",
    "\n",
    "    # Warmup\n",
    "    for _ in range(10):\n",
    "        func(input)\n",
    "\n",
    "    start.record()\n",
    "    func(input)\n",
    "    end.record()\n",
    "    torch.cuda.synchronize()\n",
    "    return start.elapsed_time(end)"
   ]
  },
  {
   "cell_type": "code",
   "execution_count": 13,
   "metadata": {},
   "outputs": [],
   "source": [
    "b = torch.randn(10000, 10000).cuda()"
   ]
  },
  {
   "cell_type": "code",
   "execution_count": 14,
   "metadata": {},
   "outputs": [],
   "source": [
    "def square_2(a):\n",
    "    return a * a\n",
    "\n",
    "def square_3(a):\n",
    "    return square_matrix_extension.square_matrix(a)"
   ]
  },
  {
   "cell_type": "code",
   "execution_count": 15,
   "metadata": {},
   "outputs": [
    {
     "name": "stdout",
     "output_type": "stream",
     "text": [
      "=======================================\n",
      "Profiling torch.square\n",
      "Total time:  3.6659200191497803 ms\n",
      "=======================================\n",
      "Profiling a * a\n",
      "Total time:  3.6577279567718506 ms\n",
      "=======================================\n",
      "Profiling square_extension\n",
      "Total time:  3.334144115447998 ms\n"
     ]
    }
   ],
   "source": [
    "print(\"=======================================\")\n",
    "print(\"Profiling torch.square\")\n",
    "print(\"Total time: \", time_pytorch_function(torch.square, b), \"ms\")\n",
    "\n",
    "print(\"=======================================\")\n",
    "print(\"Profiling a * a\")\n",
    "print(\"Total time: \", time_pytorch_function(square_2, b), \"ms\")\n",
    "\n",
    "print(\"=======================================\")\n",
    "print(\"Profiling square_extension\")\n",
    "print(\"Total time: \", time_pytorch_function(square_3, b), \"ms\")"
   ]
  }
 ],
 "metadata": {
  "kernelspec": {
   "display_name": "cu118_tor200",
   "language": "python",
   "name": "python3"
  },
  "language_info": {
   "codemirror_mode": {
    "name": "ipython",
    "version": 3
   },
   "file_extension": ".py",
   "mimetype": "text/x-python",
   "name": "python",
   "nbconvert_exporter": "python",
   "pygments_lexer": "ipython3",
   "version": "3.8.20"
  }
 },
 "nbformat": 4,
 "nbformat_minor": 2
}
